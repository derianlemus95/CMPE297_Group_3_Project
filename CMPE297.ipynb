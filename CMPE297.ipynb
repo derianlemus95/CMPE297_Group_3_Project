{
 "cells": [
  {
   "cell_type": "code",
   "execution_count": 2,
   "id": "285f4d42",
   "metadata": {},
   "outputs": [
    {
     "name": "stdout",
     "output_type": "stream",
     "text": [
      "Python 3.9.13\n"
     ]
    }
   ],
   "source": [
    "!python3 --version"
   ]
  },
  {
   "cell_type": "code",
   "execution_count": 3,
   "id": "7166672e",
   "metadata": {},
   "outputs": [
    {
     "name": "stdout",
     "output_type": "stream",
     "text": [
      "Collecting git+https://github.com/JustAnotherArchivist/snscrape.git\n",
      "  Cloning https://github.com/JustAnotherArchivist/snscrape.git to c:\\users\\16697\\appdata\\local\\temp\\pip-req-build-aeabarlv\n",
      "Requirement already satisfied: requests[socks] in c:\\users\\16697\\anaconda3\\lib\\site-packages (from snscrape==0.4.3.20220107.dev65+g46a6030) (2.28.1)\n",
      "Requirement already satisfied: lxml in c:\\users\\16697\\anaconda3\\lib\\site-packages (from snscrape==0.4.3.20220107.dev65+g46a6030) (4.6.3)\n",
      "Requirement already satisfied: beautifulsoup4 in c:\\users\\16697\\anaconda3\\lib\\site-packages (from snscrape==0.4.3.20220107.dev65+g46a6030) (4.9.3)\n",
      "Requirement already satisfied: filelock in c:\\users\\16697\\anaconda3\\lib\\site-packages (from snscrape==0.4.3.20220107.dev65+g46a6030) (3.0.12)\n",
      "Requirement already satisfied: pytz in c:\\users\\16697\\anaconda3\\lib\\site-packages (from snscrape==0.4.3.20220107.dev65+g46a6030) (2021.1)\n",
      "Requirement already satisfied: soupsieve>1.2 in c:\\users\\16697\\anaconda3\\lib\\site-packages (from beautifulsoup4->snscrape==0.4.3.20220107.dev65+g46a6030) (2.2.1)\n",
      "Requirement already satisfied: idna<4,>=2.5 in c:\\users\\16697\\anaconda3\\lib\\site-packages (from requests[socks]->snscrape==0.4.3.20220107.dev65+g46a6030) (2.10)\n",
      "Requirement already satisfied: certifi>=2017.4.17 in c:\\users\\16697\\anaconda3\\lib\\site-packages (from requests[socks]->snscrape==0.4.3.20220107.dev65+g46a6030) (2021.10.8)\n",
      "Requirement already satisfied: charset-normalizer<3,>=2 in c:\\users\\16697\\anaconda3\\lib\\site-packages (from requests[socks]->snscrape==0.4.3.20220107.dev65+g46a6030) (2.1.1)\n",
      "Requirement already satisfied: urllib3<1.27,>=1.21.1 in c:\\users\\16697\\anaconda3\\lib\\site-packages (from requests[socks]->snscrape==0.4.3.20220107.dev65+g46a6030) (1.26.4)\n",
      "Requirement already satisfied: PySocks!=1.5.7,>=1.5.6 in c:\\users\\16697\\anaconda3\\lib\\site-packages (from requests[socks]->snscrape==0.4.3.20220107.dev65+g46a6030) (1.7.1)\n",
      "Building wheels for collected packages: snscrape\n",
      "  Building wheel for snscrape (setup.py): started\n",
      "  Building wheel for snscrape (setup.py): finished with status 'done'\n",
      "  Created wheel for snscrape: filename=snscrape-0.4.3.20220107.dev65+g46a6030-py3-none-any.whl size=68450 sha256=62e53bae5a5962d28de4623430c04b37bad24ac75d94f31841404dfb32d7d071\n",
      "  Stored in directory: C:\\Users\\16697\\AppData\\Local\\Temp\\pip-ephem-wheel-cache-069fd7pf\\wheels\\92\\42\\87\\33fa9b18f7a75d02643a9ca3743339aec9be28c6796267c7d8\n",
      "Successfully built snscrape\n",
      "Installing collected packages: snscrape\n",
      "Successfully installed snscrape-0.4.3.20220107.dev65+g46a6030\n",
      "Note: you may need to restart the kernel to use updated packages.\n"
     ]
    },
    {
     "name": "stderr",
     "output_type": "stream",
     "text": [
      "  Running command git clone -q https://github.com/JustAnotherArchivist/snscrape.git 'C:\\Users\\16697\\AppData\\Local\\Temp\\pip-req-build-aeabarlv'\n"
     ]
    }
   ],
   "source": [
    "pip install git+https://github.com/JustAnotherArchivist/snscrape.git"
   ]
  },
  {
   "cell_type": "code",
   "execution_count": 4,
   "id": "ca8cf956",
   "metadata": {},
   "outputs": [],
   "source": [
    "import pandas as pd\n",
    "import snscrape.modules.twitter as sntwitter\n",
    "import itertools"
   ]
  },
  {
   "cell_type": "code",
   "execution_count": 19,
   "id": "90b5c47d",
   "metadata": {},
   "outputs": [],
   "source": [
    "loc = '34.052235, -118.243683, 663km'\n",
    "df_coord = pd.DataFrame(itertools.islice(sntwitter.TwitterSearchScraper(\n",
    "    '* geocode:\"{}\"'.format(loc)).get_items(), 50000))"
   ]
  },
  {
   "cell_type": "code",
   "execution_count": 20,
   "id": "1e0bddd3",
   "metadata": {},
   "outputs": [
    {
     "data": {
      "text/plain": [
       "1350000"
      ]
     },
     "execution_count": 20,
     "metadata": {},
     "output_type": "execute_result"
    }
   ],
   "source": [
    "df_coord.size"
   ]
  },
  {
   "cell_type": "code",
   "execution_count": 24,
   "id": "40b9e6ac",
   "metadata": {},
   "outputs": [],
   "source": [
    "df_coord.to_csv(\"C:\\\\Users\\\\16697\\\\Tweets_data.csv\")"
   ]
  },
  {
   "cell_type": "code",
   "execution_count": 23,
   "id": "eb2fc292",
   "metadata": {},
   "outputs": [
    {
     "data": {
      "text/plain": [
       "'C:\\\\Users\\\\16697'"
      ]
     },
     "execution_count": 23,
     "metadata": {},
     "output_type": "execute_result"
    }
   ],
   "source": []
  },
  {
   "cell_type": "code",
   "execution_count": null,
   "id": "80281fa3",
   "metadata": {},
   "outputs": [],
   "source": []
  }
 ],
 "metadata": {
  "kernelspec": {
   "display_name": "Python 3",
   "language": "python",
   "name": "python3"
  },
  "language_info": {
   "codemirror_mode": {
    "name": "ipython",
    "version": 3
   },
   "file_extension": ".py",
   "mimetype": "text/x-python",
   "name": "python",
   "nbconvert_exporter": "python",
   "pygments_lexer": "ipython3",
   "version": "3.8.8"
  }
 },
 "nbformat": 4,
 "nbformat_minor": 5
}
